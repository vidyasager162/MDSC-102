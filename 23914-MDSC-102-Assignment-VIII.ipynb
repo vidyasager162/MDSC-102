{
 "cells": [
  {
   "cell_type": "markdown",
   "metadata": {},
   "source": [
    "# MDSC-102\n",
    "## Assignment-VIII\n",
    "\n",
    "### Testing Hypothesis\n",
    "\n",
    "$$\n",
    "X \\sim N(\\mu, \\sigma^2)  \n",
    "$$\n",
    "$$\n",
    "\\mu = 5  \n",
    "$$\n",
    "$$\n",
    "\\sigma^2 = 4 \n",
    "$$\n",
    "$$ \n",
    "\\alpha = 5% \n",
    "$$\n",
    "$$ \n",
    "H_0: \\mu = 5.2 vs H_1: \\mu \\ne 5.2    \n",
    "$$"
   ]
  },
  {
   "cell_type": "code",
   "execution_count": 35,
   "metadata": {},
   "outputs": [],
   "source": [
    "import numpy as np\n",
    "import pandas as pd\n",
    "import matplotlib.pyplot as plt\n",
    "import seaborn as sns\n",
    "import scipy as sp          "
   ]
  },
  {
   "cell_type": "code",
   "execution_count": 4,
   "metadata": {},
   "outputs": [
    {
     "name": "stdout",
     "output_type": "stream",
     "text": [
      "\u001b[1;31mDocstring:\u001b[0m\n",
      "normal(loc=0.0, scale=1.0, size=None)\n",
      "\n",
      "Draw random samples from a normal (Gaussian) distribution.\n",
      "\n",
      "The probability density function of the normal distribution, first\n",
      "derived by De Moivre and 200 years later by both Gauss and Laplace\n",
      "independently [2]_, is often called the bell curve because of\n",
      "its characteristic shape (see the example below).\n",
      "\n",
      "The normal distributions occurs often in nature.  For example, it\n",
      "describes the commonly occurring distribution of samples influenced\n",
      "by a large number of tiny, random disturbances, each with its own\n",
      "unique distribution [2]_.\n",
      "\n",
      ".. note::\n",
      "    New code should use the ``normal`` method of a ``default_rng()``\n",
      "    instance instead; please see the :ref:`random-quick-start`.\n",
      "\n",
      "Parameters\n",
      "----------\n",
      "loc : float or array_like of floats\n",
      "    Mean (\"centre\") of the distribution.\n",
      "scale : float or array_like of floats\n",
      "    Standard deviation (spread or \"width\") of the distribution. Must be\n",
      "    non-negative.\n",
      "size : int or tuple of ints, optional\n",
      "    Output shape.  If the given shape is, e.g., ``(m, n, k)``, then\n",
      "    ``m * n * k`` samples are drawn.  If size is ``None`` (default),\n",
      "    a single value is returned if ``loc`` and ``scale`` are both scalars.\n",
      "    Otherwise, ``np.broadcast(loc, scale).size`` samples are drawn.\n",
      "\n",
      "Returns\n",
      "-------\n",
      "out : ndarray or scalar\n",
      "    Drawn samples from the parameterized normal distribution.\n",
      "\n",
      "See Also\n",
      "--------\n",
      "scipy.stats.norm : probability density function, distribution or\n",
      "    cumulative density function, etc.\n",
      "random.Generator.normal: which should be used for new code.\n",
      "\n",
      "Notes\n",
      "-----\n",
      "The probability density for the Gaussian distribution is\n",
      "\n",
      ".. math:: p(x) = \\frac{1}{\\sqrt{ 2 \\pi \\sigma^2 }}\n",
      "                 e^{ - \\frac{ (x - \\mu)^2 } {2 \\sigma^2} },\n",
      "\n",
      "where :math:`\\mu` is the mean and :math:`\\sigma` the standard\n",
      "deviation. The square of the standard deviation, :math:`\\sigma^2`,\n",
      "is called the variance.\n",
      "\n",
      "The function has its peak at the mean, and its \"spread\" increases with\n",
      "the standard deviation (the function reaches 0.607 times its maximum at\n",
      ":math:`x + \\sigma` and :math:`x - \\sigma` [2]_).  This implies that\n",
      "normal is more likely to return samples lying close to the mean, rather\n",
      "than those far away.\n",
      "\n",
      "References\n",
      "----------\n",
      ".. [1] Wikipedia, \"Normal distribution\",\n",
      "       https://en.wikipedia.org/wiki/Normal_distribution\n",
      ".. [2] P. R. Peebles Jr., \"Central Limit Theorem\" in \"Probability,\n",
      "       Random Variables and Random Signal Principles\", 4th ed., 2001,\n",
      "       pp. 51, 51, 125.\n",
      "\n",
      "Examples\n",
      "--------\n",
      "Draw samples from the distribution:\n",
      "\n",
      ">>> mu, sigma = 0, 0.1 # mean and standard deviation\n",
      ">>> s = np.random.normal(mu, sigma, 1000)\n",
      "\n",
      "Verify the mean and the variance:\n",
      "\n",
      ">>> abs(mu - np.mean(s))\n",
      "0.0  # may vary\n",
      "\n",
      ">>> abs(sigma - np.std(s, ddof=1))\n",
      "0.1  # may vary\n",
      "\n",
      "Display the histogram of the samples, along with\n",
      "the probability density function:\n",
      "\n",
      ">>> import matplotlib.pyplot as plt\n",
      ">>> count, bins, ignored = plt.hist(s, 30, density=True)\n",
      ">>> plt.plot(bins, 1/(sigma * np.sqrt(2 * np.pi)) *\n",
      "...                np.exp( - (bins - mu)**2 / (2 * sigma**2) ),\n",
      "...          linewidth=2, color='r')\n",
      ">>> plt.show()\n",
      "\n",
      "Two-by-four array of samples from N(3, 6.25):\n",
      "\n",
      ">>> np.random.normal(3, 2.5, size=(2, 4))\n",
      "array([[-4.49401501,  4.00950034, -1.81814867,  7.29718677],   # random\n",
      "       [ 0.39924804,  4.68456316,  4.99394529,  4.84057254]])  # random\n",
      "\u001b[1;31mType:\u001b[0m      builtin_function_or_method"
     ]
    }
   ],
   "source": [
    "np.random.normal?"
   ]
  },
  {
   "cell_type": "code",
   "execution_count": 9,
   "metadata": {},
   "outputs": [
    {
     "data": {
      "text/plain": [
       "array([5.11103674, 3.81604955, 8.63106287, 2.6576919 , 6.77937628,\n",
       "       3.14086709, 4.33724441, 4.29534022, 7.04171338, 7.54849603])"
      ]
     },
     "execution_count": 9,
     "metadata": {},
     "output_type": "execute_result"
    }
   ],
   "source": [
    "data = np.random.normal(5,2, size=(10))\n",
    "data"
   ]
  },
  {
   "cell_type": "markdown",
   "metadata": {},
   "source": [
    "### When Sigma is known"
   ]
  },
  {
   "cell_type": "code",
   "execution_count": 22,
   "metadata": {},
   "outputs": [
    {
     "data": {
      "text/plain": [
       "5.335887847425035"
      ]
     },
     "execution_count": 22,
     "metadata": {},
     "output_type": "execute_result"
    }
   ],
   "source": [
    "mean = data.mean()\n",
    "mean"
   ]
  },
  {
   "cell_type": "code",
   "execution_count": 16,
   "metadata": {},
   "outputs": [
    {
     "data": {
      "text/plain": [
       "0.21485755210027785"
      ]
     },
     "execution_count": 16,
     "metadata": {},
     "output_type": "execute_result"
    }
   ],
   "source": [
    "Z_cal = (mean - 5.2)/(2/np.sqrt(data.shape[0]))\n",
    "Z_cal"
   ]
  },
  {
   "cell_type": "code",
   "execution_count": 31,
   "metadata": {},
   "outputs": [
    {
     "data": {
      "text/plain": [
       "0.8298783804674379"
      ]
     },
     "execution_count": 31,
     "metadata": {},
     "output_type": "execute_result"
    }
   ],
   "source": [
    "p_value_z = 2 * (1 - (sp.stats.norm.cdf(np.abs(Z_cal))))\n",
    "p_value_z"
   ]
  },
  {
   "cell_type": "markdown",
   "metadata": {},
   "source": [
    "**Since the p-value is greater than 0.5, we do not reject the null hypothesis**"
   ]
  },
  {
   "cell_type": "markdown",
   "metadata": {},
   "source": [
    "### When Sigma is not known and n < 25"
   ]
  },
  {
   "cell_type": "code",
   "execution_count": 30,
   "metadata": {},
   "outputs": [
    {
     "data": {
      "text/plain": [
       "0.21142435954144037"
      ]
     },
     "execution_count": 30,
     "metadata": {},
     "output_type": "execute_result"
    }
   ],
   "source": [
    "t_cal = (mean - 5.2)/(data.std(ddof=1)/np.sqrt(data.shape[0]))\n",
    "t_cal"
   ]
  },
  {
   "cell_type": "code",
   "execution_count": 34,
   "metadata": {},
   "outputs": [
    {
     "data": {
      "text/plain": [
       "0.8325561501725611"
      ]
     },
     "execution_count": 34,
     "metadata": {},
     "output_type": "execute_result"
    }
   ],
   "source": [
    "p_value_t = 2 * (1 - (sp.stats.norm.cdf(np.abs(t_cal))))\n",
    "p_value_t"
   ]
  },
  {
   "cell_type": "markdown",
   "metadata": {},
   "source": [
    "**Since the p-value is greater than 0.5, we do not reject the null hypothesis**"
   ]
  }
 ],
 "metadata": {
  "kernelspec": {
   "display_name": "base",
   "language": "python",
   "name": "python3"
  },
  "language_info": {
   "codemirror_mode": {
    "name": "ipython",
    "version": 3
   },
   "file_extension": ".py",
   "mimetype": "text/x-python",
   "name": "python",
   "nbconvert_exporter": "python",
   "pygments_lexer": "ipython3",
   "version": "3.11.5"
  },
  "orig_nbformat": 4
 },
 "nbformat": 4,
 "nbformat_minor": 2
}
